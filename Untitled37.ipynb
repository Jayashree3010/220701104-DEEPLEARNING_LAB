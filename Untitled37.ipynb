{
 "cells": [
  {
   "cell_type": "code",
   "execution_count": 1,
   "id": "7151a633-4040-4334-857b-91c3b39f51ea",
   "metadata": {},
   "outputs": [
    {
     "ename": "SyntaxError",
     "evalue": "unterminated f-string literal (detected at line 52) (1070586581.py, line 52)",
     "output_type": "error",
     "traceback": [
      "\u001b[1;36m  Cell \u001b[1;32mIn[1], line 52\u001b[1;36m\u001b[0m\n\u001b[1;33m    print(f\"Epoch {epoch}/{epochs} | Discriminator Loss: {0.5 * (d_loss_real[0] + d_loss_fake[0])} |\u001b[0m\n\u001b[1;37m          ^\u001b[0m\n\u001b[1;31mSyntaxError\u001b[0m\u001b[1;31m:\u001b[0m unterminated f-string literal (detected at line 52)\n"
     ]
    }
   ],
   "source": [
    "import numpy as np\n",
    "import tensorflow as tf\n",
    "from tensorflow.keras.layers import Dense\n",
    "from tensorflow.keras.models import Sequential\n",
    "from tensorflow.keras.optimizers import Adam\n",
    "from sklearn.datasets import load_iris\n",
    "import matplotlib.pyplot as plt\n",
    "# Load and Preprocess the Iris Dataset\n",
    "iris = load_iris()\n",
    "x_train = iris.data\n",
    "# Build the GAN model\n",
    "def build_generator():\n",
    " model = Sequential()\n",
    " model.add(Dense(128, input_shape=(100,), activation='relu'))\n",
    " model.add(Dense(4, activation='linear')) # Output 4 features\n",
    " return model\n",
    "def build_discriminator():\n",
    " model = Sequential()\n",
    " model.add(Dense(128, input_shape=(4,), activation='relu'))\n",
    " model.add(Dense(1, activation='sigmoid'))\n",
    " return model\n",
    "def build_gan(generator, discriminator):\n",
    " discriminator.trainable = False\n",
    " model = Sequential()\n",
    " model.add(generator)\n",
    " model.add(discriminator)\n",
    " return model\n",
    "generator = build_generator()\n",
    "discriminator = build_discriminator()\n",
    "gan = build_gan(generator, discriminator)\n",
    "# Compile the Models\n",
    "generator.compile(loss='mean_squared_error', optimizer=Adam(0.0002, 0.5))\n",
    "discriminator.compile(loss='binary_crossentropy', optimizer=Adam(0.0002, 0.5),\n",
    " metrics=['accuracy'])\n",
    "gan.compile(loss='binary_crossentropy', optimizer=Adam(0.0002, 0.5))\n",
    "# Training Loop\n",
    "epochs = 200\n",
    "batch_size = 16\n",
    "for epoch in range(epochs):\n",
    " # Train discriminator\n",
    " idx = np.random.randint(0, x_train.shape[0], batch_size)\n",
    " real_samples = x_train[idx]\n",
    " fake_samples = generator.predict(np.random.normal(0, 1, (batch_size, 100)), verbose=0)\n",
    " real_labels = np.ones((batch_size, 1))\n",
    " fake_labels = np.zeros((batch_size, 1))\n",
    " d_loss_real = discriminator.train_on_batch(real_samples, real_labels)\n",
    " d_loss_fake = discriminator.train_on_batch(fake_samples, fake_labels)\n",
    " # Train generator\n",
    " noise = np.random.normal(0, 1, (batch_size, 100))\n",
    " g_loss = gan.train_on_batch(noise, real_labels)\n",
    " # Print progress\n",
    " print(f\"Epoch {epoch}/{epochs} | Discriminator Loss: {0.5 * (d_loss_real[0] + d_loss_fake[0])} |\n",
    "Generator Loss: {g_loss}\")\n",
    "# Generating Synthetic Data\n",
    "synthetic_data = generator.predict(np.random.normal(0, 1, (150, 100)), verbose=0)\n",
    "# Create scatter plots for feature pairs\n",
    "plt.figure(figsize=(12, 8))\n",
    "plot_idx = 1\n",
    "for i in range(4):\n",
    " for j in range(i + 1, 4):\n",
    " plt.subplot(2, 3, plot_idx)\n",
    " plt.scatter(x_train[:, i], x_train[:, j], label='Real Data', c='blue', marker='o', s=30)\n",
    " plt.scatter(synthetic_data[:, i], synthetic_data[:, j], label='Synthetic Data', c='red', marker='x',\n",
    "s=30)\n",
    " plt.xlabel(f'Feature {i + 1}')\n",
    " plt.ylabel(f'Feature {j + 1}')\n",
    " plt.legend()\n",
    " plot_idx += 1\n",
    "plt.tight_layout()\n",
    "plt.show()"
   ]
  },
  {
   "cell_type": "code",
   "execution_count": null,
   "id": "3a965c9a-382f-40be-9c7f-4e2b4a82e03c",
   "metadata": {},
   "outputs": [],
   "source": []
  }
 ],
 "metadata": {
  "kernelspec": {
   "display_name": "Python 3 (ipykernel)",
   "language": "python",
   "name": "python3"
  },
  "language_info": {
   "codemirror_mode": {
    "name": "ipython",
    "version": 3
   },
   "file_extension": ".py",
   "mimetype": "text/x-python",
   "name": "python",
   "nbconvert_exporter": "python",
   "pygments_lexer": "ipython3",
   "version": "3.13.5"
  }
 },
 "nbformat": 4,
 "nbformat_minor": 5
}
